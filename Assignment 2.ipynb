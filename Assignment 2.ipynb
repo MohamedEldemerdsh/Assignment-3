{
 "cells": [
  {
   "cell_type": "markdown",
   "metadata": {
    "collapsed": true
   },
   "source": [
    "# Assignment 2\n",
    "Let's test your knowledge!"
   ]
  },
  {
   "cell_type": "markdown",
   "metadata": {},
   "source": [
    "_____\n",
    "**Use <code>for</code>, .split(), and <code>if</code> to create a Statement that will print out words that start with 's':**"
   ]
  },
  {
   "cell_type": "code",
   "execution_count": 1,
   "metadata": {},
   "outputs": [],
   "source": [
    "st = 'Print only the words that start with s in this sentence'"
   ]
  },
  {
   "cell_type": "code",
   "execution_count": 10,
   "metadata": {},
   "outputs": [
    {
     "name": "stdout",
     "output_type": "stream",
     "text": [
      "start\n",
      "s\n",
      "sentence\n"
     ]
    }
   ],
   "source": [
    "x=list(st.split())\n",
    "for i in x:\n",
    "    if i[0]==\"s\":\n",
    "        print(i)"
   ]
  },
  {
   "cell_type": "markdown",
   "metadata": {},
   "source": [
    "______\n",
    "**Use range() to print all the even numbers from 0 to 10.**"
   ]
  },
  {
   "cell_type": "code",
   "execution_count": 42,
   "metadata": {},
   "outputs": [
    {
     "name": "stdout",
     "output_type": "stream",
     "text": [
      "Number 0 is Even\n",
      "Number 2 is Even\n",
      "Number 4 is Even\n",
      "Number 6 is Even\n",
      "Number 8 is Even\n",
      "Number 10 is Even\n"
     ]
    }
   ],
   "source": [
    "for i in range(0,11):\n",
    "    if i%2==0:\n",
    "        print(f\"Number {i} is Even\")"
   ]
  },
  {
   "cell_type": "markdown",
   "metadata": {},
   "source": [
    "___\n",
    "**Use a List Comprehension to create a list of all numbers between 1 and 50 that are divisible by 3.**"
   ]
  },
  {
   "cell_type": "code",
   "execution_count": 12,
   "metadata": {},
   "outputs": [],
   "source": [
    "def div_1(x):\n",
    "    mylist=list()\n",
    "    for i in x:\n",
    "        if i%3==0:\n",
    "            mylist.append(i)\n",
    "    print(mylist)\n",
    "    \n",
    "    #or\n",
    "    \n",
    "    \n",
    "def div_2(x):\n",
    "    mylist=[i for i in x if i%3==0]\n",
    "    return mylist"
   ]
  },
  {
   "cell_type": "code",
   "execution_count": 13,
   "metadata": {},
   "outputs": [
    {
     "name": "stdout",
     "output_type": "stream",
     "text": [
      "[3, 6, 9, 12, 15, 18, 21, 24, 27, 30, 33, 36, 39, 42, 45, 48]\n"
     ]
    },
    {
     "data": {
      "text/plain": [
       "[3, 6, 9, 12, 15, 18, 21, 24, 27, 30, 33, 36, 39, 42, 45, 48]"
      ]
     },
     "execution_count": 13,
     "metadata": {},
     "output_type": "execute_result"
    }
   ],
   "source": [
    "newlist=list(range(1,51))\n",
    "div_1(newlist)\n",
    "div_2(newlist)"
   ]
  },
  {
   "cell_type": "markdown",
   "metadata": {},
   "source": [
    "_____\n",
    "**Go through the string below and if the length of a word is even print \"even!\"**"
   ]
  },
  {
   "cell_type": "code",
   "execution_count": 14,
   "metadata": {},
   "outputs": [],
   "source": [
    "st = 'Print every word in this sentence that has an even number of letters'"
   ]
  },
  {
   "cell_type": "code",
   "execution_count": 26,
   "metadata": {},
   "outputs": [
    {
     "name": "stdout",
     "output_type": "stream",
     "text": [
      "t is odd\n",
      "y is odd\n",
      "word is Even\n",
      "in is Even\n",
      "this is Even\n",
      "sentence is Even\n",
      "that is Even\n",
      "s is odd\n",
      "an is Even\n",
      "even is Even\n",
      "number is Even\n",
      "of is Even\n",
      "s is odd\n"
     ]
    }
   ],
   "source": [
    "st_list=list(st.split())\n",
    "for i in st_list:\n",
    "    size=len(i)\n",
    "    if size%2==0:\n",
    "        print(f\"{i} is Even\")\n",
    "    else:\n",
    "        print(f\"{i[size-1]} is odd\")\n",
    "   "
   ]
  },
  {
   "cell_type": "markdown",
   "metadata": {},
   "source": [
    "____\n",
    "**Write a program that prints the integers from 1 to 100. But for multiples of three print \"Fizz\" instead of the number, and for the multiples of five print \"Buzz\". For numbers which are multiples of both three and five print \"FizzBuzz\".**"
   ]
  },
  {
   "cell_type": "code",
   "execution_count": 97,
   "metadata": {},
   "outputs": [
    {
     "name": "stdout",
     "output_type": "stream",
     "text": [
      "number 3 is Fizz\n",
      "number 5 is Buzz\n",
      "number 6 is Fizz\n",
      "number 9 is Fizz\n",
      "number 10 is Buzz\n",
      "number 12 is Fizz\n",
      "number 15 is FizzBuzz\n",
      "number 18 is Fizz\n",
      "number 20 is Buzz\n",
      "number 21 is Fizz\n",
      "number 24 is Fizz\n",
      "number 25 is Buzz\n",
      "number 27 is Fizz\n",
      "number 30 is FizzBuzz\n",
      "number 33 is Fizz\n",
      "number 35 is Buzz\n",
      "number 36 is Fizz\n",
      "number 39 is Fizz\n",
      "number 40 is Buzz\n",
      "number 42 is Fizz\n",
      "number 45 is FizzBuzz\n",
      "number 48 is Fizz\n",
      "number 50 is Buzz\n",
      "number 51 is Fizz\n",
      "number 54 is Fizz\n",
      "number 55 is Buzz\n",
      "number 57 is Fizz\n",
      "number 60 is FizzBuzz\n",
      "number 63 is Fizz\n",
      "number 65 is Buzz\n",
      "number 66 is Fizz\n",
      "number 69 is Fizz\n",
      "number 70 is Buzz\n",
      "number 72 is Fizz\n",
      "number 75 is FizzBuzz\n",
      "number 78 is Fizz\n",
      "number 80 is Buzz\n",
      "number 81 is Fizz\n",
      "number 84 is Fizz\n",
      "number 85 is Buzz\n",
      "number 87 is Fizz\n",
      "number 90 is FizzBuzz\n",
      "number 93 is Fizz\n",
      "number 95 is Buzz\n",
      "number 96 is Fizz\n",
      "number 99 is Fizz\n",
      "number 100 is Buzz\n"
     ]
    }
   ],
   "source": [
    "num=list(range(1,101))\n",
    "for i in num:\n",
    "    if i%3==0 and i%5==0:\n",
    "        print(f\"number {i} is FizzBuzz\")\n",
    "    elif i%3==0:\n",
    "        print(f\"number {i} is Fizz\")\n",
    "    elif i%5==0:\n",
    "        print(f\"number {i} is Buzz\")"
   ]
  },
  {
   "cell_type": "markdown",
   "metadata": {},
   "source": [
    "____\n",
    "**Use List Comprehension to create a list of the first letters of every word in the string below:**"
   ]
  },
  {
   "cell_type": "code",
   "execution_count": 104,
   "metadata": {},
   "outputs": [],
   "source": [
    "st = 'Create a list of the first letters of every word in this string'"
   ]
  },
  {
   "cell_type": "code",
   "execution_count": 110,
   "metadata": {},
   "outputs": [
    {
     "data": {
      "text/plain": [
       "['C', 'a', 'l', 'o', 't', 'f', 'l', 'o', 'e', 'w', 'i', 't', 's']"
      ]
     },
     "execution_count": 110,
     "metadata": {},
     "output_type": "execute_result"
    }
   ],
   "source": [
    "x=list(st.split())\n",
    "[i[0] for i in x]"
   ]
  },
  {
   "cell_type": "markdown",
   "metadata": {},
   "source": [
    "### Great Job!"
   ]
  }
 ],
 "metadata": {
  "kernelspec": {
   "display_name": "Python 3 (ipykernel)",
   "language": "python",
   "name": "python3"
  },
  "language_info": {
   "codemirror_mode": {
    "name": "ipython",
    "version": 3
   },
   "file_extension": ".py",
   "mimetype": "text/x-python",
   "name": "python",
   "nbconvert_exporter": "python",
   "pygments_lexer": "ipython3",
   "version": "3.9.12"
  }
 },
 "nbformat": 4,
 "nbformat_minor": 1
}

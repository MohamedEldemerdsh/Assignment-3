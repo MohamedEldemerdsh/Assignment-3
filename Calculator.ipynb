{
 "cells": [
  {
   "cell_type": "code",
   "execution_count": 1,
   "id": "71f642f1",
   "metadata": {},
   "outputs": [],
   "source": [
    "class calculator:\n",
    "    def __init__(self,num_1,num_2):\n",
    "        self.num1=num_1\n",
    "        self.num2=num_2\n",
    "    def add(self):\n",
    "        print(self.num1+self.num2)\n",
    "    def sub(self):\n",
    "        print(self.num1-self.num2)\n",
    "    def mult(self): \n",
    "        print(self.num1*self.num2)\n",
    "    def div(self):\n",
    "        print(self.num1/self.num2)"
   ]
  },
  {
   "cell_type": "code",
   "execution_count": 3,
   "id": "70a422a7",
   "metadata": {
    "scrolled": true
   },
   "outputs": [
    {
     "name": "stdout",
     "output_type": "stream",
     "text": [
      "Enter first value : 2\n",
      "Enter second value : 2\n",
      "Enter process is +/-/*///\n",
      "1.0\n",
      "None\n"
     ]
    }
   ],
   "source": [
    "x = float(input(\"Enter first value : \"))\n",
    "y = float(input(\"Enter second value : \"))\n",
    "calc=input(\"Enter process is +/-/*//\")\n",
    "calc=calc.lower()\n",
    "var = calculator(x,y)\n",
    "if calc == \"add\" or calc == \"+\":\n",
    "    print(var.add())\n",
    "elif calc == \"sub\" or calc == \"-\":\n",
    "    print(var.sub())\n",
    "elif calc == \"mult\" or calc == \"*\":\n",
    "    print(var.mult())\n",
    "elif calc == \"div\" or calc == \"/\" :\n",
    "    print(var.div())"
   ]
  }
 ],
 "metadata": {
  "kernelspec": {
   "display_name": "Python 3 (ipykernel)",
   "language": "python",
   "name": "python3"
  },
  "language_info": {
   "codemirror_mode": {
    "name": "ipython",
    "version": 3
   },
   "file_extension": ".py",
   "mimetype": "text/x-python",
   "name": "python",
   "nbconvert_exporter": "python",
   "pygments_lexer": "ipython3",
   "version": "3.9.12"
  }
 },
 "nbformat": 4,
 "nbformat_minor": 5
}
